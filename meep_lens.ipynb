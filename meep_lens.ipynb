{
  "nbformat": 4,
  "nbformat_minor": 0,
  "metadata": {
    "colab": {
      "provenance": [],
      "authorship_tag": "ABX9TyPuFIGh2/Vg/6CeC1x0eqbh",
      "include_colab_link": true
    },
    "kernelspec": {
      "name": "python3",
      "display_name": "Python 3"
    },
    "language_info": {
      "name": "python"
    },
    "widgets": {
      "application/vnd.jupyter.widget-state+json": {
        "11068108081c408a902b38bcf9145251": {
          "model_module": "@jupyter-widgets/controls",
          "model_name": "FloatProgressModel",
          "model_module_version": "1.5.0",
          "state": {
            "_dom_classes": [],
            "_model_module": "@jupyter-widgets/controls",
            "_model_module_version": "1.5.0",
            "_model_name": "FloatProgressModel",
            "_view_count": null,
            "_view_module": "@jupyter-widgets/controls",
            "_view_module_version": "1.5.0",
            "_view_name": "ProgressView",
            "bar_style": "",
            "description": "100% done ",
            "description_tooltip": null,
            "layout": "IPY_MODEL_e6fd3a3a1e794812a9c02456468a3566",
            "max": 10,
            "min": 0,
            "orientation": "horizontal",
            "style": "IPY_MODEL_adcb699655b74b5ca36adcc171a1c9fa",
            "value": 10
          }
        },
        "e6fd3a3a1e794812a9c02456468a3566": {
          "model_module": "@jupyter-widgets/base",
          "model_name": "LayoutModel",
          "model_module_version": "1.2.0",
          "state": {
            "_model_module": "@jupyter-widgets/base",
            "_model_module_version": "1.2.0",
            "_model_name": "LayoutModel",
            "_view_count": null,
            "_view_module": "@jupyter-widgets/base",
            "_view_module_version": "1.2.0",
            "_view_name": "LayoutView",
            "align_content": null,
            "align_items": null,
            "align_self": null,
            "border": null,
            "bottom": null,
            "display": null,
            "flex": null,
            "flex_flow": null,
            "grid_area": null,
            "grid_auto_columns": null,
            "grid_auto_flow": null,
            "grid_auto_rows": null,
            "grid_column": null,
            "grid_gap": null,
            "grid_row": null,
            "grid_template_areas": null,
            "grid_template_columns": null,
            "grid_template_rows": null,
            "height": null,
            "justify_content": null,
            "justify_items": null,
            "left": null,
            "margin": null,
            "max_height": null,
            "max_width": null,
            "min_height": null,
            "min_width": null,
            "object_fit": null,
            "object_position": null,
            "order": null,
            "overflow": null,
            "overflow_x": null,
            "overflow_y": null,
            "padding": null,
            "right": null,
            "top": null,
            "visibility": null,
            "width": null
          }
        },
        "adcb699655b74b5ca36adcc171a1c9fa": {
          "model_module": "@jupyter-widgets/controls",
          "model_name": "ProgressStyleModel",
          "model_module_version": "1.5.0",
          "state": {
            "_model_module": "@jupyter-widgets/controls",
            "_model_module_version": "1.5.0",
            "_model_name": "ProgressStyleModel",
            "_view_count": null,
            "_view_module": "@jupyter-widgets/base",
            "_view_module_version": "1.2.0",
            "_view_name": "StyleView",
            "bar_color": null,
            "description_width": ""
          }
        }
      }
    }
  },
  "cells": [
    {
      "cell_type": "markdown",
      "metadata": {
        "id": "view-in-github",
        "colab_type": "text"
      },
      "source": [
        "<a href=\"https://colab.research.google.com/github/steffen-mdv/meep_lens/blob/main/meep_lens.ipynb\" target=\"_parent\"><img src=\"https://colab.research.google.com/assets/colab-badge.svg\" alt=\"Open In Colab\"/></a>"
      ]
    },
    {
      "cell_type": "markdown",
      "source": [
        "# A Colab Notebook to run FDTD simulations with meep\n",
        "\n",
        "Author: Steffen Michaelis de Vasconcellos\n",
        "\n",
        "## Installation\n",
        "First, we install CondaLab via pip to have the convenient Conda environment. It takes about 30 seconds. The session will send a message that it has crashed - this is normal. The environment is deleted each time you reconnect to Google Colab, so keep the runtime open.\n"
      ],
      "metadata": {
        "id": "5tlrXYU3bxO_"
      }
    },
    {
      "cell_type": "code",
      "execution_count": 183,
      "metadata": {
        "colab": {
          "base_uri": "https://localhost:8080/"
        },
        "id": "qkGIX3i5bY_s",
        "outputId": "77fadcf9-2d46-487f-eb9f-8d2a42ff0b17"
      },
      "outputs": [
        {
          "output_type": "stream",
          "name": "stdout",
          "text": [
            "✨🍰✨ Everything looks OK!\n"
          ]
        }
      ],
      "source": [
        "try:\n",
        "  import condacolab\n",
        "  condacolab.check()\n",
        "except ImportError:\n",
        "  !pip install -q condacolab\n",
        "  import condacolab\n",
        "  condacolab.install()\n"
      ]
    },
    {
      "cell_type": "markdown",
      "source": [
        "Then we install meep via anaconda. We don't want to see the output. Takes about 1 minute."
      ],
      "metadata": {
        "id": "u8IJwQ6ycZ6j"
      }
    },
    {
      "cell_type": "code",
      "source": [
        "%%capture\n",
        "try:\n",
        "  import meep as matplotlib\n",
        "except ImportError:\n",
        "  !conda install -c conda-forge pymeep"
      ],
      "metadata": {
        "id": "17G3TwuObyTX"
      },
      "execution_count": 184,
      "outputs": []
    },
    {
      "cell_type": "markdown",
      "source": [
        "# Meep simulation\n",
        "\n",
        "Now we can run a meep simulation. The meep documentation is found here: https://meep.readthedocs.io/en/latest/Python_User_Interface/\n",
        "\n",
        "## Import packages\n",
        "\n"
      ],
      "metadata": {
        "id": "vIK0kXJ2coPb"
      }
    },
    {
      "cell_type": "code",
      "source": [
        "import math\n",
        "import numpy as np\n",
        "import matplotlib.pyplot as plt\n",
        "import meep as mp"
      ],
      "metadata": {
        "id": "m4aIPs-Geij4"
      },
      "execution_count": 185,
      "outputs": []
    },
    {
      "cell_type": "markdown",
      "source": [
        "## Define constants\n",
        "Define some physical constants of the simulation (e.g. refractive index, wavelength) and some parameters of the FDTD simulation (e.g. resolution, size of the simulation grid)\n",
        "\n",
        "Most important: Defines the parameters of the elliptical lens and the polarization of the dipole source. Here you can change things!"
      ],
      "metadata": {
        "id": "1VfWfGF1eoc5"
      }
    },
    {
      "cell_type": "code",
      "source": [
        "#refractive indieces\n",
        "index_lens = 1.55\n",
        "index_substrate = 1.476\n",
        "index_air = 1\n",
        "index_hBN = 2.2\n",
        "\n",
        "\n",
        "#define lens parameters\n",
        "lens_a = 7.5\n",
        "lens_b = lens_a*index_lens/(index_lens**2-index_air**2)**(1/2)\n",
        "lens_h = lens_a*((index_lens+index_air)/(index_lens-index_air))**(1/2)\n",
        "\n",
        "lens_offset = 0\n",
        "lens_offset_x = 0\n",
        "\n",
        "print('Lens parameters:')\n",
        "print('Lens short axis (a):', lens_a)\n",
        "print('Lens long axis (b):', lens_b)\n",
        "print('Lens height (h):', lens_h)\n",
        "print('Lens offset (y):', lens_offset)\n",
        "print('Lens offset (x):', lens_offset_x)\n",
        "\n",
        "#source polarization \"s\" or \"p\" or \"z\" or \"45°\"\n",
        "source_direction = \"p\"\n",
        "\n",
        "#wavelength in um\n",
        "wavelength = 0.625\n",
        "\n",
        "\n",
        "## Calculate and define some further constants for the simulation - don't edit unless you know what you are doing\n",
        "\n",
        "#frequency\n",
        "fcen = 1/wavelength\n",
        "\n",
        "#resolution\n",
        "resolution = 16\n",
        "\n",
        "hBN_height = 2/resolution\n",
        "\n",
        "#resolution is set via parameters alternative here:\n",
        "#resolution_per_wavelength = 8\n",
        "#resolution = int(np.floor(resolution_per_wavelength*fcen*index_lens))  # pixels/um\n",
        "print(\"Resolution\", resolution)\n",
        "\n",
        "dpml = 1\n",
        "\n",
        "#defince simulation cell size. size_x and y are parameters multiplies with lens size\n",
        "size_y = 15\n",
        "size_x = 8\n",
        "sx = np.floor(size_x*(lens_a))+1  #size of simulation area\n",
        "sy = np.floor(size_y*(lens_a))+1\n",
        "\n",
        "substrate_height = sy/2 + dpml #- extra_space\n",
        "substrate_x = sx + 2*dpml #- extra_space\n"
      ],
      "metadata": {
        "id": "oHpzXyauen2-",
        "colab": {
          "base_uri": "https://localhost:8080/"
        },
        "outputId": "de63af8c-5039-4ab7-bd11-e4334c28be01"
      },
      "execution_count": 186,
      "outputs": [
        {
          "output_type": "stream",
          "name": "stdout",
          "text": [
            "Lens parameters:\n",
            "Lens short axis (a): 7.5\n",
            "Lens long axis (b): 9.816157693907416\n",
            "Lens height (h): 16.14916265771865\n",
            "Lens offset (y): 0\n",
            "Lens offset (x): 0\n",
            "Resolution 16\n"
          ]
        }
      ]
    },
    {
      "cell_type": "markdown",
      "source": [
        "## Define the geometry in meep\n",
        "Here an ellipsoid is chosen for the lens. You could modify that line, but better is to modify the parameters above."
      ],
      "metadata": {
        "id": "jQnPK76iglep"
      }
    },
    {
      "cell_type": "code",
      "source": [
        "#define geometry\n",
        "geometry = []\n",
        "\n",
        "#lens\n",
        "geometry.append(mp.Ellipsoid(center=mp.Vector3(lens_offset_x,lens_b-lens_h-lens_offset,0),\n",
        "                                  size=mp.Vector3(2*lens_a,2*lens_b,2*lens_b),\n",
        "                                e1=mp.Vector3(1,0,0), e2=mp.Vector3(0,1,0), e3=mp.Vector3(0,0,1),\n",
        "                                material=mp.Medium(index=index_lens)))\n",
        "#substrate\n",
        "geometry.append(mp.Block(size=mp.Vector3(substrate_x, substrate_height, 0),\n",
        "                              center=mp.Vector3(0,substrate_height/2,0),\n",
        "                              material=mp.Medium(index=index_substrate)))"
      ],
      "metadata": {
        "id": "gMvrkTgrgxD7"
      },
      "execution_count": 187,
      "outputs": []
    },
    {
      "cell_type": "markdown",
      "source": [
        "## Define the dipole source in meep\n",
        "don't edit here"
      ],
      "metadata": {
        "id": "FR4Rpgq_hdHH"
      }
    },
    {
      "cell_type": "code",
      "source": [
        "if source_direction == \"p\":\n",
        "    print(\"Source direction Ex\")\n",
        "    src_cmpt = mp.Ex\n",
        "elif source_direction == \"s\":\n",
        "    print(\"Source direction Ez\")\n",
        "    src_cmpt = mp.Ez\n",
        "elif source_direction == \"z\":\n",
        "    print(\"Source direction perpendicular to surface (Ey)\")\n",
        "    src_cmpt = mp.Ey\n",
        "\n",
        "sources = [mp.Source(src=mp.ContinuousSource(fcen),\n",
        "                          center=mp.Vector3(0,-hBN_height/2,0),\n",
        "                          component=src_cmpt)]"
      ],
      "metadata": {
        "id": "BkUjwMRmgJK5",
        "colab": {
          "base_uri": "https://localhost:8080/"
        },
        "outputId": "9a7e888a-726b-4761-adf7-3e559183d343"
      },
      "execution_count": 188,
      "outputs": [
        {
          "output_type": "stream",
          "name": "stdout",
          "text": [
            "Source direction Ex\n"
          ]
        }
      ]
    },
    {
      "cell_type": "markdown",
      "source": [
        "## Setup the simulation\n",
        "don't edit here. Running this cell resets also the simulation."
      ],
      "metadata": {
        "id": "8R4N_P6liejA"
      }
    },
    {
      "cell_type": "code",
      "source": [
        "#caluclate cell\n",
        "cell = mp.Vector3(sx+2*dpml,sy+2*dpml)  #size of computation cell\n",
        "\n",
        "#make PML\n",
        "pml_layers = [mp.PML(dpml)]\n",
        "\n",
        "#add symmetries\n",
        "#in a 2D simulation (optical axis in Y direction), we have only symmetires in X direction. This can be either inverted (phase=-1) or normal.\n",
        "if src_cmpt == mp.Ex:\n",
        "    symmetries = [mp.Mirror(mp.X,phase=-1)]\n",
        "elif src_cmpt == mp.Ey:\n",
        "    symmetries = [mp.Mirror(mp.X,phase=+1)]\n",
        "elif src_cmpt == mp.Ez:\n",
        "    symmetries = [mp.Mirror(mp.X,phase=+1)]\n",
        "\n",
        "if lens_offset_x != 0:\n",
        "  symmetries = []\n",
        "\n",
        "#make simulation\n",
        "sim = mp.Simulation(cell_size=cell,\n",
        "                    resolution=resolution,\n",
        "                    sources=sources,\n",
        "                    geometry=geometry,\n",
        "                    symmetries=symmetries,\n",
        "                    boundary_layers=pml_layers,\n",
        "                    force_complex_fields=True)\n",
        "\n"
      ],
      "metadata": {
        "id": "wMkTdXCGgJht"
      },
      "execution_count": 189,
      "outputs": []
    },
    {
      "cell_type": "markdown",
      "source": [
        "## Run the simulation\n",
        "Running for a certain amount of timesteps (e.g. 100). You can run this cell multiple times to continoue the simulation. `until` means that that number of step is added to the simulation. The number of timesteps required that the light propagates through the whole cell depends on the size of the cell and the resolution"
      ],
      "metadata": {
        "id": "ROZhffpzkxoR"
      }
    },
    {
      "cell_type": "code",
      "source": [
        "run_until = 10\n",
        "sim.run(until=run_until)"
      ],
      "metadata": {
        "colab": {
          "base_uri": "https://localhost:8080/",
          "height": 431,
          "referenced_widgets": [
            "11068108081c408a902b38bcf9145251",
            "e6fd3a3a1e794812a9c02456468a3566",
            "adcb699655b74b5ca36adcc171a1c9fa"
          ]
        },
        "id": "UtXyyDKcjvwQ",
        "outputId": "57cdf5be-2c00-49cc-a26f-61e654542788"
      },
      "execution_count": 190,
      "outputs": [
        {
          "output_type": "stream",
          "name": "stdout",
          "text": [
            "-----------\n",
            "Initializing structure...\n",
            "Halving computational cell along direction x\n",
            "time for choose_chunkdivision = 0.00302601 s\n",
            "Working in 2D dimensions.\n",
            "Computational cell is 63 x 115 x 0 with resolution 16\n",
            "     ellipsoid, center = (0,-6.333,0)\n",
            "          size (15,19.6323,19.6323)\n",
            "          axes (1,0,0), (0,1,0), (0,0,1)\n",
            "          dielectric constant epsilon diagonal = (2.4025,2.4025,2.4025)\n",
            "     block, center = (0,28.75,0)\n",
            "          size (63,57.5,0)\n",
            "          axes (1,0,0), (0,1,0), (0,0,1)\n",
            "          dielectric constant epsilon diagonal = (2.17858,2.17858,2.17858)\n",
            "time for set_epsilon = 3.3877 s\n",
            "-----------\n",
            "Meep: using complex fields.\n"
          ]
        },
        {
          "output_type": "display_data",
          "data": {
            "text/plain": [
              "FloatProgress(value=0.0, description='0% done ', max=10.0)"
            ],
            "application/vnd.jupyter.widget-view+json": {
              "version_major": 2,
              "version_minor": 0,
              "model_id": "11068108081c408a902b38bcf9145251"
            }
          },
          "metadata": {}
        },
        {
          "output_type": "stream",
          "name": "stdout",
          "text": [
            "Meep progress: 4.625/10.0 = 46.2% done in 4.0s, 4.7s to go\n",
            "on time step 149 (time=4.65625), 0.0269594 s/step\n",
            "Meep progress: 9.03125/10.0 = 90.3% done in 8.0s, 0.9s to go\n",
            "on time step 290 (time=9.0625), 0.0285195 s/step\n",
            "run 0 finished at t = 10.0 (320 timesteps)\n"
          ]
        }
      ]
    },
    {
      "cell_type": "markdown",
      "source": [
        "## Analyze\n",
        "\n",
        "After running the simulation, we can analyze the output. Here we plot the total power of the electric field overlayed with epsilon."
      ],
      "metadata": {
        "id": "aF2tCFQ6c09r"
      }
    },
    {
      "cell_type": "code",
      "source": [
        "eps_data = sim.get_array(center=mp.Vector3(), size=sim.cell_size, component=mp.Dielectric)\n",
        "#ez_data = sim.get_array(center=mp.Vector3(), size=sim.cell_size, component=mp.Ez)\n",
        "tot_pwr = sim.get_tot_pwr().transpose()\n",
        "plt.figure(figsize=(10,8))\n",
        "plt.imshow(eps_data.transpose(), interpolation='spline36', cmap='binary')\n",
        "plt.imshow(tot_pwr, interpolation='spline36', cmap='hot', vmin=0,vmax=.5,alpha=0.8)\n",
        "plt.axis('off')\n",
        "plt.show()"
      ],
      "metadata": {
        "colab": {
          "base_uri": "https://localhost:8080/",
          "height": 653
        },
        "id": "JL6rIHU_eXfE",
        "outputId": "9cc27666-8d34-47a4-f32f-325ec5f5db4a"
      },
      "execution_count": 191,
      "outputs": [
        {
          "output_type": "display_data",
          "data": {
            "text/plain": [
              "<Figure size 1000x800 with 1 Axes>"
            ],
            "image/png": "[encoded data removed]"
          },
          "metadata": {}
        }
      ]
    }
  ]
}