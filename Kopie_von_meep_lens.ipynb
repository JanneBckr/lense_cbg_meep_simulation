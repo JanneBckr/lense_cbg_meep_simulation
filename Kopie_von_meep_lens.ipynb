{
  "nbformat": 4,
  "nbformat_minor": 0,
  "metadata": {
    "colab": {
      "provenance": [],
      "include_colab_link": true
    },
    "kernelspec": {
      "name": "python3",
      "display_name": "Python 3"
    },
    "language_info": {
      "name": "python"
    }
  },
  "cells": [
    {
      "cell_type": "markdown",
      "metadata": {
        "id": "view-in-github",
        "colab_type": "text"
      },
      "source": [
        "<a href=\"https://colab.research.google.com/github/JanneBckr/lense_cbg_meep_simulation/blob/main/Kopie_von_meep_lens.ipynb\" target=\"_parent\"><img src=\"https://colab.research.google.com/assets/colab-badge.svg\" alt=\"Open In Colab\"/></a>"
      ]
    },
    {
      "cell_type": "markdown",
      "source": [
        "# A Colab Notebook to run FDTD simulations with meep\n",
        "\n",
        "Author: Steffen Michaelis de Vasconcellos\n",
        "\n",
        "## 0. Installation\n",
        "First, we install CondaLab via pip to have the convenient Conda environment. It takes about 30-60 seconds. The session will send a message that it has crashed - this is normal. The environment is deleted each time you reconnect to Google Colab, so keep the runtime open.\n"
      ],
      "metadata": {
        "id": "5tlrXYU3bxO_"
      }
    },
    {
      "cell_type": "code",
      "execution_count": null,
      "metadata": {
        "id": "qkGIX3i5bY_s",
        "outputId": "a3ab0e11-55d8-41f7-a497-651b4de28dc2",
        "colab": {
          "base_uri": "https://localhost:8080/"
        }
      },
      "outputs": [
        {
          "output_type": "stream",
          "name": "stdout",
          "text": [
            "✨🍰✨ Everything looks OK!\n"
          ]
        }
      ],
      "source": [
        "try:\n",
        "  import google.colab\n",
        "  IN_COLAB = True\n",
        "except:\n",
        "  IN_COLAB = False\n",
        "\n",
        "if IN_COLAB:\n",
        "  try:\n",
        "    import condacolab\n",
        "    condacolab.check()\n",
        "  except ImportError:\n",
        "    !pip install -q condacolab\n",
        "    import condacolab\n",
        "    condacolab.install()\n"
      ]
    },
    {
      "cell_type": "markdown",
      "source": [
        "Then we install meep via anaconda. We don't want to see the output therefore we use %%capture. Takes about 1 or 2 minutes."
      ],
      "metadata": {
        "id": "u8IJwQ6ycZ6j"
      }
    },
    {
      "cell_type": "code",
      "source": [
        "%%capture\n",
        "try:\n",
        "  import meep as matplotlib\n",
        "except ImportError:\n",
        "  !conda install -c conda-forge pymeep"
      ],
      "metadata": {
        "id": "17G3TwuObyTX"
      },
      "execution_count": null,
      "outputs": []
    },
    {
      "cell_type": "markdown",
      "source": [
        "# Meep simulation\n",
        "\n",
        "Now we can run a meep simulation. The meep documentation is found here: https://meep.readthedocs.io/en/latest/Python_User_Interface/\n",
        "\n",
        "## 1. Import packages\n",
        "\n"
      ],
      "metadata": {
        "id": "vIK0kXJ2coPb"
      }
    },
    {
      "cell_type": "code",
      "source": [
        "import math\n",
        "import numpy as np\n",
        "import matplotlib.pyplot as plt\n",
        "import meep as mp"
      ],
      "metadata": {
        "id": "m4aIPs-Geij4"
      },
      "execution_count": null,
      "outputs": []
    },
    {
      "cell_type": "markdown",
      "source": [
        "## 2. Define constants\n",
        "Define some physical constants of the simulation (e.g. refractive index, wavelength) and some parameters of the FDTD simulation (e.g. resolution, size of the simulation grid)\n",
        "\n",
        "Most important: Defines the parameters of the elliptical lens and the polarization of the dipole source. Here you can change things!"
      ],
      "metadata": {
        "id": "1VfWfGF1eoc5"
      }
    },
    {
      "cell_type": "code",
      "source": [
        "#refractive indieces\n",
        "index_lens = 1.55\n",
        "index_substrate = 1.476\n",
        "index_air = 1\n",
        "index_hBN = 2.2\n",
        "index_cbg = 1.51\n",
        "\n",
        "\n",
        "#define lens parameters\n",
        "lens_a = 7.5\n",
        "lens_b = lens_a*index_lens/(index_lens**2-index_air**2)**(1/2)\n",
        "lens_h = lens_a*((index_lens+index_air)/(index_lens-index_air))**(1/2)\n",
        "\n",
        "lens_offset = 0\n",
        "lens_offset_x = 0\n",
        "\n",
        "print('Lens parameters:')\n",
        "print('Lens short axis (a):', lens_a)\n",
        "print('Lens long axis (b):', lens_b)\n",
        "print('Lens height (h):', lens_h)\n",
        "print('Lens offset (y):', lens_offset)\n",
        "print('Lens offset (x):', lens_offset_x)\n",
        "\n",
        "\n",
        "#define CBG parameters\n",
        "cbg_radius = 4.8  # Define the radius of the CBG\n",
        "num_rings = 10  # Define number of rings\n",
        "ring_width = 0.24  # Width of each ring\n",
        "air_gap = 0.160 #width of trenches between rings\n",
        "\n",
        "\n",
        "#source polarization \"s\" or \"p\" or \"z\" or \"45°\"\n",
        "source_direction = \"s\"\n",
        "\n",
        "#wavelength in um\n",
        "wavelength = 0.625\n",
        "\n",
        "\n",
        "## Calculate and define some further constants for the simulation - don't edit unless you know what you are doing\n",
        "\n",
        "#frequency\n",
        "fcen = 1/wavelength\n",
        "\n",
        "#resolution\n",
        "resolution = 16\n",
        "\n",
        "hBN_height = 2/resolution #center of the dipole emitter, 1 grid point above the substrate surface\n",
        "\n",
        "#resolution is set via parameters alternative here:\n",
        "#resolution_per_wavelength = 8\n",
        "#resolution = int(np.floor(resolution_per_wavelength*fcen*index_lens))  # pixels/um\n",
        "print(\"Resolution\", resolution)\n",
        "\n",
        "dpml = 0.5\n",
        "\n",
        "#defince simulation cell size. size_x and y are parameters multiplies with lens size\n",
        "size_y = 15\n",
        "size_x = 8\n",
        "sx = np.floor(size_x*(lens_a))+1  #size of simulation area\n",
        "sy = np.floor(size_y*(lens_a))+1\n",
        "\n",
        "substrate_height = sy/2 + dpml #- extra_space\n",
        "substrate_x = sx + 2*dpml #- extra_space\n"
      ],
      "metadata": {
        "id": "oHpzXyauen2-",
        "outputId": "a8719920-676f-40a6-a062-14b13dc7033b",
        "colab": {
          "base_uri": "https://localhost:8080/"
        }
      },
      "execution_count": null,
      "outputs": [
        {
          "output_type": "stream",
          "name": "stdout",
          "text": [
            "Lens parameters:\n",
            "Lens short axis (a): 7.5\n",
            "Lens long axis (b): 9.816157693907416\n",
            "Lens height (h): 16.14916265771865\n",
            "Lens offset (y): 0\n",
            "Lens offset (x): 0\n",
            "Resolution 16\n"
          ]
        }
      ]
    },
    {
      "cell_type": "markdown",
      "source": [
        "## 3. Define the geometry in meep\n",
        "Here an ellipsoid is chosen for the lens. You could modify that part by using a different geomerty class (see meep documentation), but initally it is better to modify only parameters in the cell above."
      ],
      "metadata": {
        "id": "jQnPK76iglep"
      }
    },
    {
      "cell_type": "code",
      "source": [
        "#define geometry\n",
        "geometry = []\n",
        "\n",
        "#select geometry:\n",
        "\n",
        "#geom = 'lense'\n",
        "geom = 'cbg'\n",
        "\n",
        "if geom == 'lense':\n",
        "    #lens\n",
        "    geometry.append(\n",
        "        mp.Ellipsoid(\n",
        "        center=mp.Vector3(lens_offset_x,lens_b-lens_h-lens_offset,0),\n",
        "        size=mp.Vector3(2*lens_a,2*lens_b,2*lens_b),\n",
        "        e1=mp.Vector3(1,0,0), e2=mp.Vector3(0,1,0), e3=mp.Vector3(0,0,1),\n",
        "        material=mp.Medium(index=index_lens)))\n",
        "\n",
        "if geom == 'cbg':\n",
        "    #Circular Bragg Cavity\n",
        "    current_radius = cbg_radius\n",
        "\n",
        "    # Assuming surrounding medium is air, hence material inside the cutout cylinder is air\n",
        "    for i in range(num_rings):\n",
        "        outer_radius = current_radius\n",
        "        inner_radius = current_radius - ring_width\n",
        "        material = mp.Medium(index=3.5) if i % 2 == 0 else mp.Medium(index=1.5)\n",
        "\n",
        "        # Add outer cylinder\n",
        "        geometry.append(mp.Cylinder(radius=outer_radius,\n",
        "                                    height=mp.inf,\n",
        "                                    material=index_cbg,\n",
        "                                    center=mp.Vector3()))\n",
        "\n",
        "        if i < num_rings - 1:  # No need for inner cutout for innermost ring\n",
        "            # Add inner cylinder to create the ring\n",
        "            geometry.append(mp.Cylinder(radius=inner_radius,\n",
        "                                        height=mp.inf,\n",
        "                                        material=mp.air,\n",
        "                                        center=mp.Vector3()))\n",
        "\n",
        "        current_radius -= (ring_width + air_gap)\n",
        "\n",
        "#substrate\n",
        "geometry.append(\n",
        "    mp.Block(\n",
        "        size=mp.Vector3(substrate_x, substrate_height, 0),\n",
        "        center=mp.Vector3(0,substrate_height/2,0),\n",
        "        material=mp.Medium(index=index_substrate)))\n"
      ],
      "metadata": {
        "id": "gMvrkTgrgxD7"
      },
      "execution_count": null,
      "outputs": []
    },
    {
      "cell_type": "markdown",
      "source": [
        "## 4. Define the dipole source in meep\n",
        "Don't edit here."
      ],
      "metadata": {
        "id": "FR4Rpgq_hdHH"
      }
    },
    {
      "cell_type": "code",
      "source": [
        "if source_direction == \"p\":\n",
        "    print(\"Source direction Ex\")\n",
        "    src_cmpt = mp.Ex\n",
        "elif source_direction == \"s\":\n",
        "    print(\"Source direction Ez\")\n",
        "    src_cmpt = mp.Ez\n",
        "elif source_direction == \"z\":\n",
        "    print(\"Source direction perpendicular to surface (Ey)\")\n",
        "    src_cmpt = mp.Ey\n",
        "\n",
        "sources = [mp.Source(src=mp.ContinuousSource(fcen),\n",
        "                     center=mp.Vector3(0,-hBN_height/2,0),\n",
        "                     component=src_cmpt)]"
      ],
      "metadata": {
        "id": "BkUjwMRmgJK5",
        "outputId": "4e502f26-3c63-4e8a-ef4e-ca8c26652f6f",
        "colab": {
          "base_uri": "https://localhost:8080/"
        }
      },
      "execution_count": null,
      "outputs": [
        {
          "output_type": "stream",
          "name": "stdout",
          "text": [
            "Source direction Ez\n"
          ]
        }
      ]
    },
    {
      "cell_type": "markdown",
      "source": [
        "## 5. Setup the simulation\n",
        "Don't edit here. Running this cell resets also the simulation."
      ],
      "metadata": {
        "id": "8R4N_P6liejA"
      }
    },
    {
      "cell_type": "code",
      "source": [
        "#calculate cell\n",
        "cell = mp.Vector3(sx+2*dpml,sy+2*dpml)  #size of computation cell\n",
        "\n",
        "#make PML\n",
        "pml_layers = [mp.PML(dpml)]\n",
        "\n",
        "#add symmetries\n",
        "#in a 2D simulation (optical axis in Y direction), we have only symmetires in X direction. This can be either inverted (phase=-1) or normal.\n",
        "if src_cmpt == mp.Ex:\n",
        "    symmetries = [mp.Mirror(mp.X,phase=-1)]\n",
        "elif src_cmpt == mp.Ey:\n",
        "    symmetries = [mp.Mirror(mp.X,phase=+1)]\n",
        "elif src_cmpt == mp.Ez:\n",
        "    symmetries = [mp.Mirror(mp.X,phase=+1)]\n",
        "\n",
        "if lens_offset_x != 0:\n",
        "  symmetries = []\n",
        "\n",
        "#make simulation\n",
        "sim = mp.Simulation(cell_size=cell,\n",
        "                    resolution=resolution,\n",
        "                    sources=sources,\n",
        "                    geometry=geometry,\n",
        "                    symmetries=symmetries,\n",
        "                    boundary_layers=pml_layers,\n",
        "                    force_complex_fields=False)\n",
        "\n"
      ],
      "metadata": {
        "id": "wMkTdXCGgJht"
      },
      "execution_count": null,
      "outputs": []
    },
    {
      "cell_type": "markdown",
      "source": [
        "## 6. Run the simulation\n",
        "Running for a certain amount of timesteps (e.g. 100). You can run this cell multiple times to continoue the simulation. `until` means that that number of step is added to the simulation. The number of timesteps required that the light propagates through the whole cell depends on the size of the cell and the resolution"
      ],
      "metadata": {
        "id": "ROZhffpzkxoR"
      }
    },
    {
      "cell_type": "code",
      "source": [
        "run_until = 10\n",
        "sim.run(until=run_until)"
      ],
      "metadata": {
        "id": "UtXyyDKcjvwQ"
      },
      "execution_count": null,
      "outputs": []
    },
    {
      "cell_type": "markdown",
      "source": [
        "## 7. Analyze\n",
        "\n",
        "After running the simulation, we can analyze the output. Here we plot the total power of the electric field overlayed with epsilon.\n",
        "\n",
        "Edit vmax if the color scale is not appropriate.\n",
        "\n",
        "You can also plot other parameters, e.g. the electric field. Try uncommenting the lines."
      ],
      "metadata": {
        "id": "aF2tCFQ6c09r"
      }
    },
    {
      "cell_type": "code",
      "source": [
        "eps_data = sim.get_array(center=mp.Vector3(), size=sim.cell_size, component=mp.Dielectric).transpose()\n",
        "#efield_data = sim.get_array(center=mp.Vector3(), size=sim.cell_size, component=src_cmpt).transpose()\n",
        "tot_pwr = sim.get_tot_pwr().transpose()\n",
        "\n",
        "plt.figure(figsize=(10,8))\n",
        "plt.imshow(eps_data, interpolation='spline36', cmap='binary')\n",
        "plt.imshow(tot_pwr, interpolation='spline36', cmap='hot', vmin=0,vmax=.5,alpha=0.8)\n",
        "#plt.imshow(efield_data, interpolation='spline36', cmap='RdBu', vmin=-.2,vmax=.2,alpha=0.8)\n",
        "plt.axis('off')\n",
        "plt.show()"
      ],
      "metadata": {
        "id": "JL6rIHU_eXfE",
        "colab": {
          "base_uri": "https://localhost:8080/",
          "height": 214
        },
        "outputId": "16d520ee-6a38-47de-b106-3b84d8a1facf"
      },
      "execution_count": null,
      "outputs": [
        {
          "output_type": "error",
          "ename": "NameError",
          "evalue": "name 'sim' is not defined",
          "traceback": [
            "\u001b[0;31m---------------------------------------------------------------------------\u001b[0m",
            "\u001b[0;31mNameError\u001b[0m                                 Traceback (most recent call last)",
            "\u001b[0;32m<ipython-input-1-85a37f066a47>\u001b[0m in \u001b[0;36m<cell line: 1>\u001b[0;34m()\u001b[0m\n\u001b[0;32m----> 1\u001b[0;31m \u001b[0meps_data\u001b[0m \u001b[0;34m=\u001b[0m \u001b[0msim\u001b[0m\u001b[0;34m.\u001b[0m\u001b[0mget_array\u001b[0m\u001b[0;34m(\u001b[0m\u001b[0mcenter\u001b[0m\u001b[0;34m=\u001b[0m\u001b[0mmp\u001b[0m\u001b[0;34m.\u001b[0m\u001b[0mVector3\u001b[0m\u001b[0;34m(\u001b[0m\u001b[0;34m)\u001b[0m\u001b[0;34m,\u001b[0m \u001b[0msize\u001b[0m\u001b[0;34m=\u001b[0m\u001b[0msim\u001b[0m\u001b[0;34m.\u001b[0m\u001b[0mcell_size\u001b[0m\u001b[0;34m,\u001b[0m \u001b[0mcomponent\u001b[0m\u001b[0;34m=\u001b[0m\u001b[0mmp\u001b[0m\u001b[0;34m.\u001b[0m\u001b[0mDielectric\u001b[0m\u001b[0;34m)\u001b[0m\u001b[0;34m.\u001b[0m\u001b[0mtranspose\u001b[0m\u001b[0;34m(\u001b[0m\u001b[0;34m)\u001b[0m\u001b[0;34m\u001b[0m\u001b[0;34m\u001b[0m\u001b[0m\n\u001b[0m\u001b[1;32m      2\u001b[0m \u001b[0;31m#efield_data = sim.get_array(center=mp.Vector3(), size=sim.cell_size, component=src_cmpt).transpose()\u001b[0m\u001b[0;34m\u001b[0m\u001b[0;34m\u001b[0m\u001b[0m\n\u001b[1;32m      3\u001b[0m \u001b[0mtot_pwr\u001b[0m \u001b[0;34m=\u001b[0m \u001b[0msim\u001b[0m\u001b[0;34m.\u001b[0m\u001b[0mget_tot_pwr\u001b[0m\u001b[0;34m(\u001b[0m\u001b[0;34m)\u001b[0m\u001b[0;34m.\u001b[0m\u001b[0mtranspose\u001b[0m\u001b[0;34m(\u001b[0m\u001b[0;34m)\u001b[0m\u001b[0;34m\u001b[0m\u001b[0;34m\u001b[0m\u001b[0m\n\u001b[1;32m      4\u001b[0m \u001b[0;34m\u001b[0m\u001b[0m\n\u001b[1;32m      5\u001b[0m \u001b[0mplt\u001b[0m\u001b[0;34m.\u001b[0m\u001b[0mfigure\u001b[0m\u001b[0;34m(\u001b[0m\u001b[0mfigsize\u001b[0m\u001b[0;34m=\u001b[0m\u001b[0;34m(\u001b[0m\u001b[0;36m10\u001b[0m\u001b[0;34m,\u001b[0m\u001b[0;36m8\u001b[0m\u001b[0;34m)\u001b[0m\u001b[0;34m)\u001b[0m\u001b[0;34m\u001b[0m\u001b[0;34m\u001b[0m\u001b[0m\n",
            "\u001b[0;31mNameError\u001b[0m: name 'sim' is not defined"
          ]
        }
      ]
    },
    {
      "cell_type": "code",
      "source": [],
      "metadata": {
        "id": "xGMZq4aWUGHY"
      },
      "execution_count": null,
      "outputs": []
    }
  ]
}